{
 "cells": [
  {
   "cell_type": "code",
   "execution_count": 51,
   "id": "f5ae57f6",
   "metadata": {},
   "outputs": [],
   "source": [
    "import torch\n",
    "import torchvision\n",
    "from torchvision import transforms\n",
    "import numpy as np\n",
    "import matplotlib.pyplot as plt\n",
    "import seaborn as sns"
   ]
  },
  {
   "cell_type": "code",
   "execution_count": 52,
   "id": "77a2b1a4",
   "metadata": {},
   "outputs": [],
   "source": [
    "path = '/Users/alfie/Git/pcle_classification/data/split/gbm 1_0.npy'"
   ]
  },
  {
   "cell_type": "code",
   "execution_count": 53,
   "id": "978f4547",
   "metadata": {},
   "outputs": [],
   "source": [
    "# input\n",
    "inp = np.load(path)"
   ]
  },
  {
   "cell_type": "code",
   "execution_count": 54,
   "id": "92c51f92",
   "metadata": {},
   "outputs": [
    {
     "data": {
      "text/plain": [
       "(96, 168, 280)"
      ]
     },
     "execution_count": 54,
     "metadata": {},
     "output_type": "execute_result"
    }
   ],
   "source": [
    "inp.shape"
   ]
  },
  {
   "cell_type": "code",
   "execution_count": 55,
   "id": "0af3fe0f",
   "metadata": {},
   "outputs": [
    {
     "data": {
      "text/plain": [
       "(4515840,)"
      ]
     },
     "execution_count": 55,
     "metadata": {},
     "output_type": "execute_result"
    }
   ],
   "source": [
    "flat = inp.flatten()\n",
    "flat.shape"
   ]
  },
  {
   "cell_type": "code",
   "execution_count": 56,
   "id": "3c99b1ab",
   "metadata": {},
   "outputs": [
    {
     "data": {
      "image/png": "[encoded data removed]",
      "text/plain": [
       "<Figure size 432x288 with 1 Axes>"
      ]
     },
     "metadata": {
      "needs_background": "light"
     },
     "output_type": "display_data"
    }
   ],
   "source": [
    "plt.figure()\n",
    "plt.title('Image')\n",
    "plt.hist(flat, bins=50)\n",
    "plt.show()"
   ]
  },
  {
   "cell_type": "code",
   "execution_count": 57,
   "id": "7c6abe51",
   "metadata": {},
   "outputs": [
    {
     "data": {
      "text/plain": [
       "99.13079537804705"
      ]
     },
     "execution_count": 57,
     "metadata": {},
     "output_type": "execute_result"
    }
   ],
   "source": [
    "flat.mean()"
   ]
  },
  {
   "cell_type": "code",
   "execution_count": 58,
   "id": "ae8f92e4",
   "metadata": {
    "scrolled": true
   },
   "outputs": [
    {
     "data": {
      "text/plain": [
       "49.02027882607582"
      ]
     },
     "execution_count": 58,
     "metadata": {},
     "output_type": "execute_result"
    }
   ],
   "source": [
    "flat.std()"
   ]
  },
  {
   "cell_type": "code",
   "execution_count": 59,
   "id": "5641edb8",
   "metadata": {},
   "outputs": [],
   "source": [
    "pr = torchvision.transforms.ToTensor()\n",
    "i2 = pr(inp)"
   ]
  },
  {
   "cell_type": "code",
   "execution_count": 60,
   "id": "9d7d9619",
   "metadata": {},
   "outputs": [
    {
     "data": {
      "text/plain": [
       "tensor(0.3887)"
      ]
     },
     "execution_count": 60,
     "metadata": {},
     "output_type": "execute_result"
    }
   ],
   "source": [
    "i2.mean()"
   ]
  },
  {
   "cell_type": "code",
   "execution_count": 61,
   "id": "662121c9",
   "metadata": {},
   "outputs": [
    {
     "data": {
      "text/plain": [
       "tensor(0.1922)"
      ]
     },
     "execution_count": 61,
     "metadata": {},
     "output_type": "execute_result"
    }
   ],
   "source": [
    "i2.std()"
   ]
  },
  {
   "cell_type": "markdown",
   "id": "32e4a97e",
   "metadata": {},
   "source": [
    "# Min Max\n",
    "\n",
    "Scale to within [0, 1].\n",
    "\n",
    "Same distribution..."
   ]
  },
  {
   "cell_type": "code",
   "execution_count": 62,
   "id": "66a6ce2d",
   "metadata": {},
   "outputs": [],
   "source": [
    "norm = (inp - np.min(inp)) / (np.max(inp) - np.min(inp))"
   ]
  },
  {
   "cell_type": "code",
   "execution_count": 63,
   "id": "477c4fb2",
   "metadata": {
    "scrolled": true
   },
   "outputs": [
    {
     "data": {
      "image/png": "[encoded data removed]",
      "text/plain": [
       "<Figure size 432x288 with 1 Axes>"
      ]
     },
     "metadata": {
      "needs_background": "light"
     },
     "output_type": "display_data"
    }
   ],
   "source": [
    "plt.figure()\n",
    "plt.title('Image')\n",
    "plt.hist(norm.flatten(), bins=50)\n",
    "plt.show()"
   ]
  },
  {
   "cell_type": "code",
   "execution_count": 64,
   "id": "c3fde585",
   "metadata": {
    "scrolled": true
   },
   "outputs": [
    {
     "data": {
      "text/plain": [
       "0.3887482171688125"
      ]
     },
     "execution_count": 64,
     "metadata": {},
     "output_type": "execute_result"
    }
   ],
   "source": [
    "norm.mean()"
   ]
  },
  {
   "cell_type": "code",
   "execution_count": 65,
   "id": "85eeae06",
   "metadata": {
    "scrolled": true
   },
   "outputs": [
    {
     "data": {
      "text/plain": [
       "0.19223638755323832"
      ]
     },
     "execution_count": 65,
     "metadata": {},
     "output_type": "execute_result"
    }
   ],
   "source": [
    "norm.std()"
   ]
  },
  {
   "cell_type": "code",
   "execution_count": 66,
   "id": "dbc406fa",
   "metadata": {},
   "outputs": [],
   "source": [
    "pr = torchvision.transforms.ToTensor()\n",
    "nm = pr(norm)"
   ]
  },
  {
   "cell_type": "code",
   "execution_count": 67,
   "id": "662f57b8",
   "metadata": {
    "scrolled": true
   },
   "outputs": [
    {
     "data": {
      "text/plain": [
       "tensor(0.3887, dtype=torch.float64)"
      ]
     },
     "execution_count": 67,
     "metadata": {},
     "output_type": "execute_result"
    }
   ],
   "source": [
    "nm.mean()"
   ]
  },
  {
   "cell_type": "code",
   "execution_count": 68,
   "id": "4aa43aa5",
   "metadata": {
    "scrolled": true
   },
   "outputs": [
    {
     "data": {
      "text/plain": [
       "tensor(0.1922, dtype=torch.float64)"
      ]
     },
     "execution_count": 68,
     "metadata": {},
     "output_type": "execute_result"
    }
   ],
   "source": [
    "nm.std()"
   ]
  },
  {
   "cell_type": "code",
   "execution_count": 69,
   "id": "3070774c",
   "metadata": {},
   "outputs": [
    {
     "data": {
      "text/plain": [
       "tensor(1., dtype=torch.float64)"
      ]
     },
     "execution_count": 69,
     "metadata": {},
     "output_type": "execute_result"
    }
   ],
   "source": [
    "nm.max()"
   ]
  },
  {
   "cell_type": "markdown",
   "id": "7d53117d",
   "metadata": {},
   "source": [
    "# Standardization\n",
    "\n",
    "Z scale normalisation"
   ]
  },
  {
   "cell_type": "code",
   "execution_count": 70,
   "id": "b1b092f9",
   "metadata": {},
   "outputs": [],
   "source": [
    "znorm = (inp - np.mean(inp)) / (np.std(inp))"
   ]
  },
  {
   "cell_type": "code",
   "execution_count": 71,
   "id": "b7b5051f",
   "metadata": {},
   "outputs": [
    {
     "data": {
      "image/png": "[encoded data removed]",
      "text/plain": [
       "<Figure size 432x288 with 1 Axes>"
      ]
     },
     "metadata": {
      "needs_background": "light"
     },
     "output_type": "display_data"
    }
   ],
   "source": [
    "plt.figure()\n",
    "plt.title('Image')\n",
    "plt.hist(znorm.flatten(), bins=50)\n",
    "plt.show()"
   ]
  },
  {
   "cell_type": "code",
   "execution_count": 72,
   "id": "127f3615",
   "metadata": {},
   "outputs": [
    {
     "data": {
      "text/plain": [
       "-4.131552746684717e-17"
      ]
     },
     "execution_count": 72,
     "metadata": {},
     "output_type": "execute_result"
    }
   ],
   "source": [
    "znorm.mean()"
   ]
  },
  {
   "cell_type": "code",
   "execution_count": 73,
   "id": "1dd6e74b",
   "metadata": {
    "scrolled": false
   },
   "outputs": [
    {
     "data": {
      "text/plain": [
       "0.9999999999999997"
      ]
     },
     "execution_count": 73,
     "metadata": {},
     "output_type": "execute_result"
    }
   ],
   "source": [
    "znorm.std()"
   ]
  },
  {
   "cell_type": "code",
   "execution_count": 74,
   "id": "02ac96a3",
   "metadata": {},
   "outputs": [],
   "source": [
    "pr = torchvision.transforms.ToTensor()\n",
    "it = pr(znorm)"
   ]
  },
  {
   "cell_type": "code",
   "execution_count": 75,
   "id": "1fccfb03",
   "metadata": {},
   "outputs": [
    {
     "data": {
      "text/plain": [
       "tensor(-4.1891e-17, dtype=torch.float64)"
      ]
     },
     "execution_count": 75,
     "metadata": {},
     "output_type": "execute_result"
    }
   ],
   "source": [
    "it.mean()"
   ]
  },
  {
   "cell_type": "code",
   "execution_count": 76,
   "id": "7d405b5b",
   "metadata": {},
   "outputs": [
    {
     "data": {
      "text/plain": [
       "tensor(1.0000, dtype=torch.float64)"
      ]
     },
     "execution_count": 76,
     "metadata": {},
     "output_type": "execute_result"
    }
   ],
   "source": [
    "it.std()"
   ]
  },
  {
   "cell_type": "markdown",
   "id": "fa65a452",
   "metadata": {},
   "source": [
    "# Transformations"
   ]
  },
  {
   "cell_type": "code",
   "execution_count": 77,
   "id": "b576ba44",
   "metadata": {},
   "outputs": [],
   "source": [
    "class z_norm(object):  \n",
    "    def __call__(self, inp):\n",
    "        \"\"\"\n",
    "        :param img: (numpy): Image \n",
    "\n",
    "        :return: z-norm, every channel of frame,\n",
    "        tensorise\n",
    "        \"\"\"\n",
    "        return (inp - np.mean(inp)) / (np.std(inp))\n",
    "\n",
    "    def __repr__(self):\n",
    "        return self.__class__.__name__+'()'"
   ]
  },
  {
   "cell_type": "code",
   "execution_count": 78,
   "id": "9f72b183",
   "metadata": {},
   "outputs": [],
   "source": [
    "t = trfrms()"
   ]
  },
  {
   "cell_type": "code",
   "execution_count": 80,
   "id": "53b60bc9",
   "metadata": {},
   "outputs": [
    {
     "data": {
      "image/png": "[encoded data removed]",
      "text/plain": [
       "<Figure size 432x288 with 1 Axes>"
      ]
     },
     "metadata": {
      "needs_background": "light"
     },
     "output_type": "display_data"
    }
   ],
   "source": [
    "plt.figure()\n",
    "plt.title('Image')\n",
    "plt.hist(t(inp).flatten(), bins=50)\n",
    "plt.show()"
   ]
  },
  {
   "cell_type": "code",
   "execution_count": null,
   "id": "5b0822e0",
   "metadata": {},
   "outputs": [],
   "source": []
  }
 ],
 "metadata": {
  "kernelspec": {
   "display_name": "Python 3",
   "language": "python",
   "name": "python3"
  },
  "language_info": {
   "codemirror_mode": {
    "name": "ipython",
    "version": 3
   },
   "file_extension": ".py",
   "mimetype": "text/x-python",
   "name": "python",
   "nbconvert_exporter": "python",
   "pygments_lexer": "ipython3",
   "version": "3.9.5"
  }
 },
 "nbformat": 4,
 "nbformat_minor": 5
}
